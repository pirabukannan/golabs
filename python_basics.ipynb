{
  "nbformat": 4,
  "nbformat_minor": 0,
  "metadata": {
    "colab": {
      "provenance": [],
      "authorship_tag": "ABX9TyNX6pm0uOAV78NKvpb8gyaB",
      "include_colab_link": true
    },
    "kernelspec": {
      "name": "python3",
      "display_name": "Python 3"
    },
    "language_info": {
      "name": "python"
    }
  },
  "cells": [
    {
      "cell_type": "markdown",
      "metadata": {
        "id": "view-in-github",
        "colab_type": "text"
      },
      "source": [
        "<a href=\"https://colab.research.google.com/github/pirabukannan/golabs/blob/main/python_basics.ipynb\" target=\"_parent\"><img src=\"https://colab.research.google.com/assets/colab-badge.svg\" alt=\"Open In Colab\"/></a>"
      ]
    },
    {
      "cell_type": "markdown",
      "source": [
        "This is to help me teach basics of python with some examples "
      ],
      "metadata": {
        "id": "JJiV0XMIrPWn"
      }
    },
    {
      "cell_type": "code",
      "source": [
        "a = 10 \n",
        "b = 10.5\n",
        "c = 'My name is Pirabu'\n",
        "print(a+b)\n",
        "print(b-a)\n",
        "print(c[0],c[0:4])"
      ],
      "metadata": {
        "colab": {
          "base_uri": "https://localhost:8080/"
        },
        "id": "Vm8hLxIhrQT8",
        "outputId": "a2e479a0-ea83-493f-f5e1-34d7863642ad"
      },
      "execution_count": null,
      "outputs": [
        {
          "output_type": "stream",
          "name": "stdout",
          "text": [
            "20.5\n",
            "0.5\n",
            "M My n\n"
          ]
        }
      ]
    }
  ]
}