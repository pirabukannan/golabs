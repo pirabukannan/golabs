{
  "nbformat": 4,
  "nbformat_minor": 0,
  "metadata": {
    "colab": {
      "provenance": [],
      "authorship_tag": "ABX9TyMmp6We9OK3FSAHORUmJb2u",
      "include_colab_link": true
    },
    "kernelspec": {
      "name": "python3",
      "display_name": "Python 3"
    },
    "language_info": {
      "name": "python"
    }
  },
  "cells": [
    {
      "cell_type": "markdown",
      "metadata": {
        "id": "view-in-github",
        "colab_type": "text"
      },
      "source": [
        "<a href=\"https://colab.research.google.com/github/pirabukannan/golabs/blob/main/python_basics.ipynb\" target=\"_parent\"><img src=\"https://colab.research.google.com/assets/colab-badge.svg\" alt=\"Open In Colab\"/></a>"
      ]
    },
    {
      "cell_type": "markdown",
      "source": [
        "This is to help me teach basics of python with some examples "
      ],
      "metadata": {
        "id": "JJiV0XMIrPWn"
      }
    },
    {
      "cell_type": "markdown",
      "source": [
        "Simple variables and arithmatic operations"
      ],
      "metadata": {
        "id": "t4j5c_L4xStZ"
      }
    },
    {
      "cell_type": "code",
      "source": [
        "a = 10 \n",
        "b = 10.5\n",
        "c = 'My name is Pirabu'\n",
        "print(a+b)\n",
        "print(b-a)\n",
        "print(c[0],c[0:4])"
      ],
      "metadata": {
        "colab": {
          "base_uri": "https://localhost:8080/"
        },
        "id": "Vm8hLxIhrQT8",
        "outputId": "7780ecf3-2d09-4043-b518-aa01aecd9b0a"
      },
      "execution_count": 3,
      "outputs": [
        {
          "output_type": "stream",
          "name": "stdout",
          "text": [
            "20.5\n",
            "0.5\n",
            "M My n\n"
          ]
        }
      ]
    },
    {
      "cell_type": "markdown",
      "source": [
        "Loops conditions\n"
      ],
      "metadata": {
        "id": "j2H9NE_fxR3F"
      }
    },
    {
      "cell_type": "code",
      "source": [
        "if ( a == 20):\n",
        "  print('I have passed');\n",
        "else:\n",
        "  print('I have failed');\n",
        "\n",
        "a = 20;\n",
        "\n",
        "if ( a == 20):\n",
        "  print('I have repassed');\n",
        "else:\n",
        "  print('I have failed');"
      ],
      "metadata": {
        "id": "yfu69oeCxecc",
        "outputId": "98d6db95-bca3-4264-86ff-26224848393f",
        "colab": {
          "base_uri": "https://localhost:8080/"
        }
      },
      "execution_count": 5,
      "outputs": [
        {
          "output_type": "stream",
          "name": "stdout",
          "text": [
            "I have passed\n",
            "I have repassed\n"
          ]
        }
      ]
    }
  ]
}